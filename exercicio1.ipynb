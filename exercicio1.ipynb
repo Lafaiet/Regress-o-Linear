{
 "cells": [
  {
   "cell_type": "markdown",
   "metadata": {},
   "source": [
    "## Os exercícios abaixo referem-se a base de dados “Risco de ataque cardíaco”"
   ]
  },
  {
   "cell_type": "markdown",
   "metadata": {},
   "source": [
    "Obtenha o modelo utilizando os 10 primeiros exemplos da base de dados. Calcule e apresente o erro\n",
    "quadrático médio aplicando o modelo de regressão nos mesmos 10 primeiros exemplos da base de\n",
    "dados. Depois calcule e apresente o erro quadrático médio do modelo de regressão obtido nos demais\n",
    "exemplos. Argumente se o modelo tem ou não uma boa capacidade de predição em novos exemplos."
   ]
  },
  {
   "cell_type": "code",
   "execution_count": 19,
   "metadata": {
    "collapsed": false
   },
   "outputs": [],
   "source": [
    "#Base de Dados:\n",
    "database = {\n",
    "\"idade\" : [10,12,14,16,18,20,22,24,26,28,\n",
    "           30,32,34,36,38,40,44,50,60,70],\n",
    "\"prob_attack\" : [0.05, 0.06, 0.07, 0.08, 0.10, 0.10, 0.11, 0.12, 0.12, 0.12,\n",
    "                 0.18, 0.20, 0.21, 0.21, 0.23, 0.28, 0.40, 0.50, 0.60, 0.70]\n",
    "}\n"
   ]
  },
  {
   "cell_type": "code",
   "execution_count": 20,
   "metadata": {
    "collapsed": false
   },
   "outputs": [],
   "source": [
    "# Imports\n",
    "\n",
    "from __future__ import unicode_literals\n",
    "\n",
    "import numpy as np\n",
    "import matplotlib.pyplot as plt\n",
    "from matplotlib.lines import Line2D\n",
    "from math import sqrt\n",
    "%matplotlib inline"
   ]
  },
  {
   "cell_type": "markdown",
   "metadata": {},
   "source": [
    "## Utilizando os 10 primeiros exemplos da base de dados"
   ]
  },
  {
   "cell_type": "code",
   "execution_count": 21,
   "metadata": {
    "collapsed": true
   },
   "outputs": [],
   "source": [
    "x = database['idade'][:10]\n",
    "y = database['prob_attack'][:10]\n",
    "n = len(x)\n",
    "\n",
    "xy = np.multiply(x, y)\n",
    "xx = np.multiply(x, x)\n",
    "yy = np.multiply(y, y)"
   ]
  },
  {
   "cell_type": "markdown",
   "metadata": {},
   "source": [
    "Precisamos calcular os valores de  $\\beta_0$ e  $\\beta_1$ que compõem a equação:\n",
    "\n",
    "$\\hat{y} = \\beta_0 + \\beta_1x$\n",
    "\n",
    "Onde:\n",
    "\n",
    "- $\\hat{y}$ é a variável aleatória\n",
    "- $x$ variável independete\n",
    "- $\\beta_0$ interceptação\n",
    "- $\\beta_1$ coeficiente de inclinação\n"
   ]
  },
  {
   "cell_type": "markdown",
   "metadata": {},
   "source": [
    "\\begin{equation*}\n",
    "\\beta_0 = \\frac{n \\sum_{}(xy) - \\sum_{}(x)\\sum_{}(y)}{n\\sum_{}(x^{2}) - (\\sum_{}(x))^{2}}\n",
    "\\end{equation*}"
   ]
  },
  {
   "cell_type": "markdown",
   "metadata": {},
   "source": [
    "\\begin{equation*}\n",
    "\\beta_1 = \\frac{n\\sum_{}(y)\\sum_{}(xx) - \\sum_{}(x)\\sum_{}(y)} {n\\sum_{}(x^{2}) - (\\sum_{}(x))^{2}}\n",
    "\\end{equation*}"
   ]
  },
  {
   "cell_type": "code",
   "execution_count": 22,
   "metadata": {
    "collapsed": false
   },
   "outputs": [
    {
     "name": "stdout",
     "output_type": "stream",
     "text": [
      "0.00421212121212\n"
     ]
    }
   ],
   "source": [
    "b0 = float(( n*(sum(xy)) - sum(x)*sum(y))) / ( (n*sum(xx) - sum(x)**2) )\n",
    "print b0"
   ]
  },
  {
   "cell_type": "code",
   "execution_count": 23,
   "metadata": {
    "collapsed": false
   },
   "outputs": [
    {
     "name": "stdout",
     "output_type": "stream",
     "text": [
      "0.0129696969697\n"
     ]
    }
   ],
   "source": [
    "b1 = float(( sum(y)*sum(xx) - sum(x)*sum(xy) ))  /  ( n*(sum(xx)) - sum(x)**2 )\n",
    "print b1"
   ]
  },
  {
   "cell_type": "code",
   "execution_count": 24,
   "metadata": {
    "collapsed": true
   },
   "outputs": [],
   "source": [
    "y_hat = map(lambda xi : b0*xi+b1, x)"
   ]
  },
  {
   "cell_type": "code",
   "execution_count": 25,
   "metadata": {
    "collapsed": false
   },
   "outputs": [
    {
     "data": {
      "text/plain": [
       "[]"
      ]
     },
     "execution_count": 25,
     "metadata": {},
     "output_type": "execute_result"
    },
    {
     "data": {
      "image/png": "[encoded data removed]",
      "text/plain": [
       "<matplotlib.figure.Figure at 0x10d028550>"
      ]
     },
     "metadata": {},
     "output_type": "display_data"
    }
   ],
   "source": [
    "x = np.array(x)\n",
    "y = np.array(y)\n",
    "y_hat = np.array(y_hat)\n",
    "\n",
    "fig, ax = plt.subplots()\n",
    "\n",
    "reg_line = ax.plot(x, y_hat, color='red', label='modelo de regressão')\n",
    "\n",
    "ax.grid(True, linestyle='-')\n",
    "\n",
    "ax.scatter(x, y)\n",
    "\n",
    "plt.xlabel('Idade (anos)')\n",
    "plt.ylabel('Probabilidade de ataque (%)')\n",
    "plt.title(\"Idade X Probabilidade de ataque cardíaco\")\n",
    "plt.plot()"
   ]
  },
  {
   "cell_type": "markdown",
   "metadata": {
    "collapsed": false
   },
   "source": [
    "O **Coeficiente de Determinação** $R^{2}$ pode ser obtido pela fórmula:\n",
    "\n",
    "\\begin{equation*}\n",
    "R^{2} = \\frac{\\sum{}(\\hat{y_i}-\\bar{y})^{2}} {\\sum{}(y_i-\\bar{y})^{2}}\n",
    "\\end{equation*}"
   ]
  },
  {
   "cell_type": "markdown",
   "metadata": {},
   "source": [
    "O erro quadrático médio para os mesmos 10 primeiros exemplos é, portando:"
   ]
  },
  {
   "cell_type": "code",
   "execution_count": 26,
   "metadata": {
    "collapsed": false,
    "scrolled": false
   },
   "outputs": [
    {
     "name": "stdout",
     "output_type": "stream",
     "text": [
      "Erro médio quadrático : 94.28%\n"
     ]
    }
   ],
   "source": [
    "y_median = float(sum(y))/n\n",
    "r2 = sum(map( lambda yi_hat : (yi_hat-y_median)**2, y_hat)) / sum(map( lambda yi : (yi-y_median)**2, y))\n",
    "print \"Erro médio quadrático : %.2f%%\"%(r2*100)"
   ]
  },
  {
   "cell_type": "markdown",
   "metadata": {},
   "source": [
    "## Utilizando os 10 útimos exemplos da base de dados"
   ]
  },
  {
   "cell_type": "code",
   "execution_count": 27,
   "metadata": {
    "collapsed": false
   },
   "outputs": [
    {
     "name": "stdout",
     "output_type": "stream",
     "text": [
      "Erro médio quadrático : 31.28%\n"
     ]
    }
   ],
   "source": [
    "y_remaining = database['prob_attack'][10:]\n",
    "x_remaining = database['idade'][10:]\n",
    "\n",
    "all_x = database['idade']\n",
    "all_y = database['prob_attack']\n",
    "all_y_hat = map(lambda xi : b0*xi+b1, all_x)\n",
    "\n",
    "y_median = float(sum(all_y))/(n*2)\n",
    "all_y_hat = map(lambda xi : b0*xi+b1, all_x)\n",
    "\n",
    "r2 = sum(map( lambda yi_hat : (yi_hat-y_median)**2, all_y_hat)) / sum(map( lambda yi : (yi-y_median)**2, all_y))\n",
    "print \"Erro médio quadrático : %.2f%%\"%(r2*100)"
   ]
  },
  {
   "cell_type": "code",
   "execution_count": 28,
   "metadata": {
    "collapsed": false
   },
   "outputs": [
    {
     "data": {
      "text/plain": [
       "[]"
      ]
     },
     "execution_count": 28,
     "metadata": {},
     "output_type": "execute_result"
    },
    {
     "data": {
      "image/png": "[encoded data removed]",
      "text/plain": [
       "<matplotlib.figure.Figure at 0x109daae90>"
      ]
     },
     "metadata": {},
     "output_type": "display_data"
    }
   ],
   "source": [
    "all_x = database['idade']\n",
    "all_y = database['prob_attack']\n",
    "all_y_hat = map(lambda xi : b0*xi+b1, all_x)\n",
    "\n",
    "all_n = len(all_x)\n",
    "all_x = np.array(all_x)\n",
    "all_y = np.array(all_y)\n",
    "\n",
    "\n",
    "fig, ax = plt.subplots()\n",
    "\n",
    "reg_line = ax.plot(all_x, all_y_hat, color='red', label='modelo de regressão')\n",
    "\n",
    "ax.grid(True, linestyle='-')\n",
    "\n",
    "ax.scatter(x, y)\n",
    "ax.scatter(x_remaining, y_remaining, color='green')\n",
    "\n",
    "plt.xlabel('Idade (anos)')\n",
    "plt.ylabel('Probabilidade de ataque (%)')\n",
    "plt.title(\"Idade X Probabilidade de ataque cardíaco\")\n",
    "plt.plot()"
   ]
  },
  {
   "cell_type": "markdown",
   "metadata": {},
   "source": [
    "Podemos notar pelo valor do erro quadrático e pela discrepância de predições com relação aos 10 últmos exemplos (plotados em verde) que esse modelo não possui boa capacidade de predição para novos casos."
   ]
  }
 ],
 "metadata": {
  "kernelspec": {
   "display_name": "Python 2",
   "language": "python",
   "name": "python2"
  },
  "language_info": {
   "codemirror_mode": {
    "name": "ipython",
    "version": 2
   },
   "file_extension": ".py",
   "mimetype": "text/x-python",
   "name": "python",
   "nbconvert_exporter": "python",
   "pygments_lexer": "ipython2",
   "version": "2.7.11"
  }
 },
 "nbformat": 4,
 "nbformat_minor": 2
}
