{
 "cells": [
  {
   "cell_type": "markdown",
   "metadata": {},
   "source": [
    "O banco de dados contém informações de 40 apartamentos vendidos no mês passado. Cada linha do banco de dados é um apartamento. Ajuste o seguinte modelo de regressão múltipla para os dados:\n",
    "\n",
    "$Y = b0+b1x1+b2x2+b3x3+erro$, em que:\n",
    "\n",
    "$Y$ = preço do apartamento;\n",
    "\n",
    "$x1$ = tamanho do apartamento, em metros quadrados; \n",
    "\n",
    "$x2$ = idade do prédio, em anos;\n",
    "\n",
    "$x3$ = andar em que o apartamento está.\n",
    "\n",
    "Obs.: Note que não usaremos todas as variáveis independentes.\n",
    "\n",
    "**Qual é o preço previsto de um imóvel com 80m2, 10 anos e que está no 9o andar?**"
   ]
  },
  {
   "cell_type": "code",
   "execution_count": 34,
   "metadata": {
    "collapsed": true
   },
   "outputs": [],
   "source": [
    "#Base de Dados:\n",
    "database = {\n",
    "    \"apt\" : [1, 2, 3, 4, 5, 6, 7, 8, 9, 10, 11, 12, 13, 14, 15, 16,\n",
    "             17, 18, 19, 20, 21, 22, 23, 24, 25, 26, 27, 28, 29, 30,\n",
    "             31, 32, 33, 34, 35, 36, 37, 38, 39, 40],\n",
    "    \n",
    "    \"price\" : [814364, 837887, 1094109, 727129, 784800, 1158339, 1080046,\n",
    "               839743, 920737, 713176, 859764, 982291, 733894, 915152, 980419,\n",
    "               1061956, 981657, 711479, 830290, 965093, 849199, 640924, 688660,\n",
    "               821829, 982912, 1020831, 710888, 801885, 1307216, 671028, 918318,\n",
    "               843974, 923510, 836419, 967390, 601516, 1297396, 918891, 1279741, 860217],\n",
    "\n",
    "    \"size\" : [87, 86, 105, 100, 88, 100, 136, 86, 84, 94, 100, 86, 78,\n",
    "              84, 78, 93, 104, 71, 86, 101, 83, 77, 78, 98, 98, 84, 89,\n",
    "              107, 138, 83, 96, 94, 104, 100, 100, 94, 111, 104, 103, 103],\n",
    "\n",
    "    \"age\" : [9, 10, 8, 11, 8, 9, 9, 10, 11, 6, 14, 13, 10, 8, 6, 4, 11,\n",
    "             15, 5, 9, 10, 10, 13, 11, 11, 8, 12, 7, 9, 11, 8, 10, 12, 14,\n",
    "             7, 14, 7, 6, 9, 9],\n",
    "\n",
    "    \"floor\" : [9, 1, 12, 7, 13, 8, 6, 8, 9, 6, 4, 14, 3, 6, 11, 3, 4, 8, 8,\n",
    "               9, 6, 9, 6, 11, 3, 15, 4, 2, 12, 5, 14, 17, 11, 8, 6, 2, 7, 8, 10, 4],\n",
    "\n",
    "    \"rooms\" : [2, 2, 4, 3, 2, 3, 4, 2, 2, 3, 3, 2, 3, 2, 2, 3, 3, 2, 3, 3, 2,\n",
    "               2, 2, 3, 3, 2, 2, 3, 4, 2, 3, 3, 3, 3, 3, 3, 3, 3, 3, 3],\n",
    "\n",
    "    \"garage\" : [2, 2, 2, 1, 1, 2, 1, 2, 2, 1, 1, 1, 1, 2, 1, 2, 2, 2, 1, 2, 2,\n",
    "                2, 2, 1, 2, 2, 1, 2, 2, 0, 2, 1, 2, 1, 2, 1, 2, 2, 2, 2],\n",
    "}"
   ]
  },
  {
   "cell_type": "code",
   "execution_count": 35,
   "metadata": {
    "collapsed": true
   },
   "outputs": [],
   "source": [
    "# Imports\n",
    "import numpy as np\n"
   ]
  },
  {
   "cell_type": "markdown",
   "metadata": {},
   "source": [
    "Para obtenção do nosso modelo\n",
    "\n",
    "$\\hat{y} = \\beta_0 + \\beta_1x_1 + \\beta_2x_2 + \\beta_3x_3$ \n",
    "\n",
    "Onde:\n",
    "\n",
    "- $\\hat{y}$ é a variável aleatória\n",
    "- $x_i$ variáveis independetes\n",
    "- $\\beta_0$ interceptação\n",
    "- $\\beta_i$ coeficientes de inclinação\n",
    "\n",
    "Vamos fazer uso da fórmula:\n",
    "\n",
    "\\begin{equation*}\n",
    "\\hat{\\beta} = (X^{T}X)^{-1}X^{T}Y\n",
    "\\end{equation*}\n"
   ]
  },
  {
   "cell_type": "code",
   "execution_count": 44,
   "metadata": {
    "collapsed": false
   },
   "outputs": [
    {
     "name": "stdout",
     "output_type": "stream",
     "text": [
      "B0 = 324728.189621\n",
      "B1 = 6920.21351868\n",
      "B2 = -17590.1682604\n",
      "B3 = 11216.9468539\n"
     ]
    }
   ],
   "source": [
    "x1 = database['size']\n",
    "x2 = database['age']\n",
    "x3 = database['floor']\n",
    "x0 = [1] * len(x1)\n",
    "\n",
    "Y = database['price']\n",
    "\n",
    "\n",
    "Y = np.matrix(Y).T\n",
    "\n",
    "X = np.matrix([x0, x1, x2, x3])\n",
    "X = X.T\n",
    "\n",
    "Beta_hat = ((X.T*X).I)*X.T*Y\n",
    "\n",
    "b0 = Beta_hat.item(0, 0)\n",
    "b1 = Beta_hat.item(1, 0)\n",
    "b2 = Beta_hat.item(2, 0)\n",
    "b3 = Beta_hat.item(3, 0)\n",
    "\n",
    "print \"B0 = \" + str(b0)\n",
    "print \"B1 = \" + str(b1)\n",
    "print \"B2 = \" + str(b2)\n",
    "print \"B3 = \" + str(b3)\n",
    "\n",
    "\n"
   ]
  },
  {
   "cell_type": "markdown",
   "metadata": {},
   "source": [
    "### O valor estimado:"
   ]
  },
  {
   "cell_type": "code",
   "execution_count": 46,
   "metadata": {
    "collapsed": false
   },
   "outputs": [
    {
     "name": "stdout",
     "output_type": "stream",
     "text": [
      "R$ 803,396.11\n"
     ]
    }
   ],
   "source": [
    "tamanho = 80\n",
    "idade = 10\n",
    "andar = 9\n",
    "\n",
    "preco = b0 + b1*tamanho + b2*idade + b3*andar\n",
    "print \"R$ {:,.2f}\".format(preco)"
   ]
  }
 ],
 "metadata": {
  "kernelspec": {
   "display_name": "Python 2",
   "language": "python",
   "name": "python2"
  },
  "language_info": {
   "codemirror_mode": {
    "name": "ipython",
    "version": 2
   },
   "file_extension": ".py",
   "mimetype": "text/x-python",
   "name": "python",
   "nbconvert_exporter": "python",
   "pygments_lexer": "ipython2",
   "version": "2.7.11"
  }
 },
 "nbformat": 4,
 "nbformat_minor": 0
}
