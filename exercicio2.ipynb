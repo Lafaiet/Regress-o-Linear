{
 "cells": [
  {
   "cell_type": "markdown",
   "metadata": {},
   "source": [
    "## Os exercícios abaixo referem-se a base de dados “Risco de ataque cardíaco”"
   ]
  },
  {
   "cell_type": "markdown",
   "metadata": {},
   "source": [
    "Obtenha o modelo utilizando os 5 primeiros exemplos da base de dados e também os 5 últimos. Calcule e apresente o erro quadrático médio aplicando o modelo de regressão nos 10 exemplos utilizados para obter o modelo de regressão. Depois calcule e apresente o erro quadrático médio do modelo de regressão obtido nos demais exemplos. Argumente se o modelo tem ou não uma boa capacidade de predição em novos exemplos. Compare com os resultados do exercício anterior e argumente as possíveis diferenças de resultados."
   ]
  },
  {
   "cell_type": "code",
   "execution_count": 36,
   "metadata": {
    "collapsed": true
   },
   "outputs": [],
   "source": [
    "#Base de Dados:\n",
    "database = {\n",
    "\"idade\" : [10,12,14,16,18,20,22,24,26,28,\n",
    "           30,32,34,36,38,40,44,50,60,70],\n",
    "\"prob_attack\" : [0.05, 0.06, 0.07, 0.08, 0.10, 0.10, 0.11, 0.12, 0.12, 0.12,\n",
    "                 0.18, 0.20, 0.21, 0.21, 0.23, 0.28, 0.40, 0.50, 0.60, 0.70]\n",
    "}"
   ]
  },
  {
   "cell_type": "code",
   "execution_count": 37,
   "metadata": {
    "collapsed": true
   },
   "outputs": [],
   "source": [
    "# Imports\n",
    "\n",
    "from __future__ import unicode_literals\n",
    "\n",
    "import numpy as np\n",
    "import matplotlib.pyplot as plt\n",
    "from matplotlib.lines import Line2D\n",
    "from math import sqrt\n",
    "%matplotlib inline"
   ]
  },
  {
   "cell_type": "markdown",
   "metadata": {},
   "source": [
    "## 5 primeiros e 5 últimos:"
   ]
  },
  {
   "cell_type": "code",
   "execution_count": 38,
   "metadata": {
    "collapsed": false
   },
   "outputs": [],
   "source": [
    "# Primeiros 5\n",
    "x = database['idade'][:5]\n",
    "y = database['prob_attack'][:5]\n",
    "\n",
    "# Ultimos 5\n",
    "x += database['idade'][-5:]\n",
    "y += database['prob_attack'][-5:]\n",
    "\n",
    "n = len(x)\n",
    "\n",
    "xy = np.multiply(x, y)\n",
    "xx = np.multiply(x, x)\n",
    "yy = np.multiply(y, y)"
   ]
  },
  {
   "cell_type": "code",
   "execution_count": 39,
   "metadata": {
    "collapsed": false
   },
   "outputs": [
    {
     "name": "stdout",
     "output_type": "stream",
     "text": [
      "0.0111862557949\n"
     ]
    }
   ],
   "source": [
    "b0 = float(( n*(sum(xy)) - sum(x)*sum(y))) / ( (n*sum(xx) - sum(x)**2) )\n",
    "print b0"
   ]
  },
  {
   "cell_type": "code",
   "execution_count": 40,
   "metadata": {
    "collapsed": false
   },
   "outputs": [
    {
     "name": "stdout",
     "output_type": "stream",
     "text": [
      "-0.0896209435506\n"
     ]
    }
   ],
   "source": [
    "b1 = float(( sum(y)*sum(xx) - sum(x)*sum(xy) ))  /  ( n*(sum(xx)) - sum(x)**2 )\n",
    "print b1"
   ]
  },
  {
   "cell_type": "code",
   "execution_count": 41,
   "metadata": {
    "collapsed": true
   },
   "outputs": [],
   "source": [
    "y_hat = map(lambda xi : b0*xi+b1, x)"
   ]
  },
  {
   "cell_type": "code",
   "execution_count": 42,
   "metadata": {
    "collapsed": false
   },
   "outputs": [
    {
     "data": {
      "text/plain": [
       "[]"
      ]
     },
     "execution_count": 42,
     "metadata": {},
     "output_type": "execute_result"
    },
    {
     "data": {
      "image/png": "[encoded data removed]",
      "text/plain": [
       "<matplotlib.figure.Figure at 0x10f3f1d50>"
      ]
     },
     "metadata": {},
     "output_type": "display_data"
    }
   ],
   "source": [
    "x = np.array(x)\n",
    "y = np.array(y)\n",
    "y_hat = np.array(y_hat)\n",
    "\n",
    "fig, ax = plt.subplots()\n",
    "\n",
    "reg_line = ax.plot(x, y_hat, color='red', label='modelo de regressão')\n",
    "\n",
    "ax.grid(True, linestyle='-')\n",
    "\n",
    "ax.scatter(x, y)\n",
    "\n",
    "plt.xlabel('Idade (anos)')\n",
    "plt.ylabel('Probabilidade de ataque (%)')\n",
    "plt.title(\"Idade X Probabilidade de ataque cardíaco\")\n",
    "plt.plot()"
   ]
  },
  {
   "cell_type": "code",
   "execution_count": 43,
   "metadata": {
    "collapsed": false
   },
   "outputs": [
    {
     "name": "stdout",
     "output_type": "stream",
     "text": [
      "Erro médio quadrático : 98.46%\n"
     ]
    }
   ],
   "source": [
    "y_median = float(sum(y))/n\n",
    "r2 = sum(map( lambda yi_hat : (yi_hat-y_median)**2, y_hat)) / sum(map( lambda yi : (yi-y_median)**2, y))\n",
    "print \"Erro médio quadrático : %.2f%%\"%(r2*100)"
   ]
  },
  {
   "cell_type": "markdown",
   "metadata": {},
   "source": [
    "## Demais exemplos:"
   ]
  },
  {
   "cell_type": "code",
   "execution_count": 44,
   "metadata": {
    "collapsed": false
   },
   "outputs": [],
   "source": [
    "# Demais exemplos\n",
    "x_remaining = database['idade'][5:15]\n",
    "y_remaining = database['prob_attack'][5:15]\n"
   ]
  },
  {
   "cell_type": "code",
   "execution_count": 45,
   "metadata": {
    "collapsed": false
   },
   "outputs": [
    {
     "name": "stdout",
     "output_type": "stream",
     "text": [
      "Erro médio quadrático : 95.91%\n"
     ]
    }
   ],
   "source": [
    "all_x = database['idade']\n",
    "all_y = database['prob_attack']\n",
    "all_y_hat = map(lambda xi : b0*xi+b1, all_x)\n",
    "\n",
    "y_median = float(sum(all_y))/(n*2)\n",
    "r2 = sum(map( lambda yi_hat : (yi_hat-y_median)**2, all_y_hat)) / sum(map( lambda yi : (yi-y_median)**2, all_y))\n",
    "print \"Erro médio quadrático : %.2f%%\"%(r2*100)"
   ]
  },
  {
   "cell_type": "code",
   "execution_count": 46,
   "metadata": {
    "collapsed": false
   },
   "outputs": [
    {
     "data": {
      "text/plain": [
       "[]"
      ]
     },
     "execution_count": 46,
     "metadata": {},
     "output_type": "execute_result"
    },
    {
     "data": {
      "image/png": "[encoded data removed]",
      "text/plain": [
       "<matplotlib.figure.Figure at 0x10f190f50>"
      ]
     },
     "metadata": {},
     "output_type": "display_data"
    }
   ],
   "source": [
    "n = len(all_x)\n",
    "all_x = np.array(all_x)\n",
    "all_y = np.array(all_y)\n",
    "\n",
    "\n",
    "fig, ax = plt.subplots()\n",
    "\n",
    "reg_line = ax.plot(all_x, all_y_hat, color='red', label='modelo de regressão')\n",
    "\n",
    "ax.grid(True, linestyle='-')\n",
    "\n",
    "ax.scatter(x, y)\n",
    "ax.scatter(x_remaining, y_remaining, color='green')\n",
    "\n",
    "plt.xlabel('Idade (anos)')\n",
    "plt.ylabel('Probabilidade de ataque (%)')\n",
    "plt.title(\"Idade X Probabilidade de ataque cardíaco\")\n",
    "plt.plot()"
   ]
  }
 ],
 "metadata": {
  "kernelspec": {
   "display_name": "Python 2",
   "language": "python",
   "name": "python2"
  },
  "language_info": {
   "codemirror_mode": {
    "name": "ipython",
    "version": 2
   },
   "file_extension": ".py",
   "mimetype": "text/x-python",
   "name": "python",
   "nbconvert_exporter": "python",
   "pygments_lexer": "ipython2",
   "version": "2.7.11"
  }
 },
 "nbformat": 4,
 "nbformat_minor": 0
}
